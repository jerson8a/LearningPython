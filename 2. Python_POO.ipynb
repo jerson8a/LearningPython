{
 "cells": [
  {
   "cell_type": "markdown",
   "id": "5ead611d",
   "metadata": {},
   "source": [
    "### Programación Orientada a Objetos\n",
    "\n",
    "1. Campos: Atributos, información y datos del objeto.\n",
    "2. Constructores: Función que crea en memoria un objeto (instancia).\n",
    "3. Métodos: Funciones para la gestión de un objeto.\n",
    "4. Destructores: Retirar de memoria un objeto."
   ]
  },
  {
   "cell_type": "code",
   "execution_count": 31,
   "id": "126b5d20",
   "metadata": {},
   "outputs": [],
   "source": [
    "# Definición de un objeto\n",
    "\n",
    "class Empleado():\n",
    "\n",
    "    incrementoSalario = 1.05 # Variable de clase\n",
    "\n",
    "    # Constructor\n",
    "    def __init__(self, name, lastname, officeNumber, salario):\n",
    "        self.name = name\n",
    "        self.lastname = lastname\n",
    "        self.officeNumber = officeNumber\n",
    "        self.correo = f\"{self.name.lower()}.{self.lastname.lower()}@galileo.edu\"\n",
    "        self.officeNumber = officeNumber\n",
    "        self.salario = salario\n",
    "\n",
    "    # Método\n",
    "    def nombreCompleto(self):\n",
    "        return f\"{self.name} {self.lastname}\"\n",
    "\n",
    "    @classmethod \n",
    "    def cambiarIncremento(cls, nuevoIncremento):\n",
    "        if ((nuevoIncremento >= 0) and (nuevoIncremento <= 1.15)):\n",
    "            cls.incrementoSalario = nuevoIncremento\n",
    "        else:\n",
    "            print(\"Error: El incremento de salario no es válido\")"
   ]
  },
  {
   "cell_type": "code",
   "execution_count": 25,
   "id": "be4bda65",
   "metadata": {},
   "outputs": [
    {
     "data": {
      "text/plain": [
       "{'name': 'Jerson',\n",
       " 'lastname': 'Ochoa',\n",
       " 'officeNumber': 2102,\n",
       " 'correo': 'jerson.ochoa@galileo.edu',\n",
       " 'salario': 19000}"
      ]
     },
     "execution_count": 25,
     "metadata": {},
     "output_type": "execute_result"
    }
   ],
   "source": [
    "# Instanciando un objeto\n",
    "nuevoEmpleado = Empleado('Jerson', 'Ochoa', 2102, 19000)\n",
    "nuevoEmpleado.__dict__ "
   ]
  },
  {
   "cell_type": "code",
   "execution_count": 26,
   "id": "d18fd547",
   "metadata": {},
   "outputs": [
    {
     "data": {
      "text/plain": [
       "'Jerson Ochoa'"
      ]
     },
     "execution_count": 26,
     "metadata": {},
     "output_type": "execute_result"
    }
   ],
   "source": [
    "# Llamar un método del objeto\n",
    "nuevoEmpleado.nombreCompleto()"
   ]
  },
  {
   "cell_type": "code",
   "execution_count": 35,
   "id": "369f8300",
   "metadata": {},
   "outputs": [
    {
     "data": {
      "text/plain": [
       "1.15"
      ]
     },
     "execution_count": 35,
     "metadata": {},
     "output_type": "execute_result"
    }
   ],
   "source": [
    "# Llamar a método de clase para cambiar variable de clase\n",
    "Empleado.cambiarIncremento(1.15)\n",
    "Empleado.incrementoSalario"
   ]
  }
 ],
 "metadata": {
  "kernelspec": {
   "display_name": "ML_MITx",
   "language": "python",
   "name": "python3"
  },
  "language_info": {
   "codemirror_mode": {
    "name": "ipython",
    "version": 3
   },
   "file_extension": ".py",
   "mimetype": "text/x-python",
   "name": "python",
   "nbconvert_exporter": "python",
   "pygments_lexer": "ipython3",
   "version": "3.9.19"
  }
 },
 "nbformat": 4,
 "nbformat_minor": 5
}
