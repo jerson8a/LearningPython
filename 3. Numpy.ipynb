{
 "cells": [
  {
   "cell_type": "markdown",
   "id": "ebcea24c",
   "metadata": {},
   "source": [
    "## Numpy"
   ]
  },
  {
   "cell_type": "code",
   "execution_count": 1,
   "id": "777ee5e1",
   "metadata": {},
   "outputs": [],
   "source": [
    "import numpy as np"
   ]
  },
  {
   "cell_type": "code",
   "execution_count": 2,
   "id": "815ec6c0",
   "metadata": {},
   "outputs": [
    {
     "data": {
      "text/plain": [
       "array([10, 20, 30, 40, 50])"
      ]
     },
     "execution_count": 2,
     "metadata": {},
     "output_type": "execute_result"
    }
   ],
   "source": [
    "# Arreglos\n",
    "x = np.array([10, 20, 30, 40, 50])\n",
    "x"
   ]
  },
  {
   "cell_type": "code",
   "execution_count": null,
   "id": "0c2b01f1",
   "metadata": {},
   "outputs": [
    {
     "data": {
      "text/plain": [
       "array([ 0. ,  2.5,  5. ,  7.5, 10. ])"
      ]
     },
     "execution_count": 4,
     "metadata": {},
     "output_type": "execute_result"
    }
   ],
   "source": [
    "# LINSPACE: Retorna listado de números de acuerdo a parámetros dados\n",
    "y = np.linspace(0, 10, 5)\n",
    "y"
   ]
  },
  {
   "cell_type": "code",
   "execution_count": null,
   "id": "38aea9d8",
   "metadata": {},
   "outputs": [
    {
     "data": {
      "text/plain": [
       "array([0, 2, 4, 6, 8])"
      ]
     },
     "execution_count": 5,
     "metadata": {},
     "output_type": "execute_result"
    }
   ],
   "source": [
    "# Arange: Retorna un listado de números de acuerdo a parámetros (Más óptimo que linspace)\n",
    "z = np.arange(0, 10, 2)\n",
    "z"
   ]
  },
  {
   "cell_type": "code",
   "execution_count": 6,
   "id": "f2a8680a",
   "metadata": {},
   "outputs": [
    {
     "data": {
      "text/plain": [
       "array([[0., 0., 0.],\n",
       "       [0., 0., 0.],\n",
       "       [0., 0., 0.],\n",
       "       [0., 0., 0.],\n",
       "       [0., 0., 0.]])"
      ]
     },
     "execution_count": 6,
     "metadata": {},
     "output_type": "execute_result"
    }
   ],
   "source": [
    "# Arreglo de zeros\n",
    "x = np.zeros((5, 3))\n",
    "x"
   ]
  },
  {
   "cell_type": "code",
   "execution_count": 7,
   "id": "7face069",
   "metadata": {},
   "outputs": [
    {
     "name": "stdout",
     "output_type": "stream",
     "text": [
      "[ 1  2  3  4  5 10 20 30 40 50]\n",
      "[[ 1  2  3  4  5]\n",
      " [10 20 30 40 50]]\n"
     ]
    }
   ],
   "source": [
    "# Horizontal y vertical Stack\n",
    "x = np.array([1, 2, 3, 4, 5])\n",
    "y = np.array([10, 20, 30, 40, 50])\n",
    "\n",
    "hs = np.hstack((x, y))\n",
    "vs = np.vstack((x, y))\n",
    "\n",
    "print(hs)\n",
    "print(vs)"
   ]
  },
  {
   "cell_type": "code",
   "execution_count": 8,
   "id": "976f0f64",
   "metadata": {},
   "outputs": [
    {
     "name": "stdout",
     "output_type": "stream",
     "text": [
      "El rango del tensor es 2 y las dimensiones son (2, 5)\n"
     ]
    }
   ],
   "source": [
    "# Rango y dimensión de tensor o arreglo\n",
    "\n",
    "rango = vs.ndim\n",
    "dimensiones = vs.shape\n",
    "\n",
    "print(f\"El rango del tensor es {rango} y las dimensiones son {dimensiones}\")"
   ]
  }
 ],
 "metadata": {
  "kernelspec": {
   "display_name": "ML_MITx",
   "language": "python",
   "name": "python3"
  },
  "language_info": {
   "codemirror_mode": {
    "name": "ipython",
    "version": 3
   },
   "file_extension": ".py",
   "mimetype": "text/x-python",
   "name": "python",
   "nbconvert_exporter": "python",
   "pygments_lexer": "ipython3",
   "version": "3.9.19"
  }
 },
 "nbformat": 4,
 "nbformat_minor": 5
}
