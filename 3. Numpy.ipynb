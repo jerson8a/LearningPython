{
 "cells": [
  {
   "cell_type": "markdown",
   "id": "ebcea24c",
   "metadata": {},
   "source": [
    "## Numpy"
   ]
  },
  {
   "cell_type": "code",
   "execution_count": 1,
   "id": "777ee5e1",
   "metadata": {},
   "outputs": [],
   "source": [
    "import numpy as np"
   ]
  },
  {
   "cell_type": "code",
   "execution_count": 2,
   "id": "815ec6c0",
   "metadata": {},
   "outputs": [
    {
     "data": {
      "text/plain": [
       "array([10, 20, 30, 40, 50])"
      ]
     },
     "execution_count": 2,
     "metadata": {},
     "output_type": "execute_result"
    }
   ],
   "source": [
    "# Arreglos\n",
    "x = np.array([10, 20, 30, 40, 50])\n",
    "x"
   ]
  },
  {
   "cell_type": "code",
   "execution_count": null,
   "id": "0c2b01f1",
   "metadata": {},
   "outputs": [
    {
     "data": {
      "text/plain": [
       "array([ 0. ,  2.5,  5. ,  7.5, 10. ])"
      ]
     },
     "execution_count": 4,
     "metadata": {},
     "output_type": "execute_result"
    }
   ],
   "source": [
    "# LINSPACE: Retorna listado de números de acuerdo a parámetros dados\n",
    "y = np.linspace(0, 10, 5)\n",
    "y"
   ]
  },
  {
   "cell_type": "code",
   "execution_count": null,
   "id": "38aea9d8",
   "metadata": {},
   "outputs": [
    {
     "data": {
      "text/plain": [
       "array([0, 2, 4, 6, 8])"
      ]
     },
     "execution_count": 5,
     "metadata": {},
     "output_type": "execute_result"
    }
   ],
   "source": [
    "# Arange: Retorna un listado de números de acuerdo a parámetros (Más óptimo que linspace)\n",
    "z = np.arange(0, 10, 2)\n",
    "z"
   ]
  },
  {
   "cell_type": "code",
   "execution_count": 6,
   "id": "f2a8680a",
   "metadata": {},
   "outputs": [
    {
     "data": {
      "text/plain": [
       "array([[0., 0., 0.],\n",
       "       [0., 0., 0.],\n",
       "       [0., 0., 0.],\n",
       "       [0., 0., 0.],\n",
       "       [0., 0., 0.]])"
      ]
     },
     "execution_count": 6,
     "metadata": {},
     "output_type": "execute_result"
    }
   ],
   "source": [
    "# Arreglo de zeros\n",
    "x = np.zeros((5, 3))\n",
    "x"
   ]
  },
  {
   "cell_type": "code",
   "execution_count": 7,
   "id": "7face069",
   "metadata": {},
   "outputs": [
    {
     "name": "stdout",
     "output_type": "stream",
     "text": [
      "[ 1  2  3  4  5 10 20 30 40 50]\n",
      "[[ 1  2  3  4  5]\n",
      " [10 20 30 40 50]]\n"
     ]
    }
   ],
   "source": [
    "# Horizontal y vertical Stack\n",
    "x = np.array([1, 2, 3, 4, 5])\n",
    "y = np.array([10, 20, 30, 40, 50])\n",
    "\n",
    "hs = np.hstack((x, y))\n",
    "vs = np.vstack((x, y))\n",
    "\n",
    "print(hs)\n",
    "print(vs)"
   ]
  },
  {
   "cell_type": "code",
   "execution_count": 8,
   "id": "976f0f64",
   "metadata": {},
   "outputs": [
    {
     "name": "stdout",
     "output_type": "stream",
     "text": [
      "El rango del tensor es 2 y las dimensiones son (2, 5)\n"
     ]
    }
   ],
   "source": [
    "# Rango y dimensión de tensor o arreglo\n",
    "\n",
    "rango = vs.ndim\n",
    "dimensiones = vs.shape\n",
    "\n",
    "print(f\"El rango del tensor es {rango} y las dimensiones son {dimensiones}\")"
   ]
  },
  {
   "cell_type": "markdown",
   "id": "6573676b",
   "metadata": {},
   "source": [
    "### Operaciones con Vectores"
   ]
  },
  {
   "cell_type": "code",
   "execution_count": 9,
   "id": "e4cb575c",
   "metadata": {},
   "outputs": [],
   "source": [
    "v = np.array([1, 2, 3, 4])\n",
    "w = np.array([5, 6, 7, 8])"
   ]
  },
  {
   "cell_type": "code",
   "execution_count": 10,
   "id": "c79ea047",
   "metadata": {},
   "outputs": [
    {
     "name": "stdout",
     "output_type": "stream",
     "text": [
      "suma:  [ 6  8 10 12]\n",
      "resta:  [-4 -4 -4 -4]\n",
      "suma escalar:  [6 7 8 9]\n",
      "división escalar:  [0.2 0.4 0.6 0.8]\n"
     ]
    }
   ],
   "source": [
    "# Operaciones se aplican a elemento por elemento, y utilizando el principio de broadcasting\n",
    "print(\"suma: \", v + w)\n",
    "print(\"resta: \", v - w)\n",
    "print(\"suma escalar: \", v + 5)\n",
    "print(\"división escalar: \", v / 5)"
   ]
  },
  {
   "cell_type": "code",
   "execution_count": 11,
   "id": "4499d312",
   "metadata": {},
   "outputs": [
    {
     "name": "stdout",
     "output_type": "stream",
     "text": [
      "[-1 -1  0  1  1]\n",
      "[2 1 0 1 2]\n",
      "[-0.90929743 -0.84147098  0.          0.84147098  0.90929743]\n",
      "[       nan        nan 0.         1.         1.41421356]\n"
     ]
    },
    {
     "name": "stderr",
     "output_type": "stream",
     "text": [
      "/var/folders/84/9lhxzgfs4vg72cmkr47zph8r0000gn/T/ipykernel_72647/2811613947.py:7: RuntimeWarning: invalid value encountered in sqrt\n",
      "  print(np.sqrt(x))\n"
     ]
    }
   ],
   "source": [
    "# Operaciones universales\n",
    "x = np.array([-2, -1, 0, 1, 2])\n",
    "\n",
    "print(np.sign(x))\n",
    "print(np.abs(x))\n",
    "print(np.sin(x))\n",
    "print(np.sqrt(x))"
   ]
  },
  {
   "cell_type": "code",
   "execution_count": 12,
   "id": "36468bd5",
   "metadata": {},
   "outputs": [
    {
     "name": "stdout",
     "output_type": "stream",
     "text": [
      "5\n",
      "nan\n",
      "4.0\n",
      "nan\n",
      "2.3333333333333335\n"
     ]
    }
   ],
   "source": [
    "# Trabajando con NAN (Esto sirve para validar datos o realizar imputaciones)\n",
    "x = np.array([1, 2, 3, 4, 5])\n",
    "x_nan = np.array([1, 2, np.nan, 4, np.nan])\n",
    "\n",
    "print(np.max(x))\n",
    "print(np.max(x_nan))\n",
    "print(np.nanmax(x_nan))\n",
    "print(np.mean(x_nan))\n",
    "print(np.nanmean(x_nan))"
   ]
  },
  {
   "cell_type": "code",
   "execution_count": 13,
   "id": "833ccc36",
   "metadata": {},
   "outputs": [
    {
     "name": "stdout",
     "output_type": "stream",
     "text": [
      "4\n"
     ]
    }
   ],
   "source": [
    "# Posición del valor más grande\n",
    "print(np.argmax(x))"
   ]
  },
  {
   "cell_type": "markdown",
   "id": "72979359",
   "metadata": {},
   "source": [
    "### Reshape"
   ]
  },
  {
   "cell_type": "code",
   "execution_count": 14,
   "id": "55c747b0",
   "metadata": {},
   "outputs": [
    {
     "name": "stdout",
     "output_type": "stream",
     "text": [
      "[0 1 2 3 4 5 6 7 8 9]\n"
     ]
    }
   ],
   "source": [
    "x = np.arange(0, 10, 1)\n",
    "print(x)"
   ]
  },
  {
   "cell_type": "code",
   "execution_count": null,
   "id": "ed12ee09",
   "metadata": {},
   "outputs": [
    {
     "data": {
      "text/plain": [
       "array([[0, 1, 2, 3, 4],\n",
       "       [5, 6, 7, 8, 9]])"
      ]
     },
     "execution_count": 15,
     "metadata": {},
     "output_type": "execute_result"
    }
   ],
   "source": [
    "# El reshape nos ayuda a cambiar la forma que tiene un tensor, esto funciona siempre que se solicite una estructura consistente al arreglo que queremos transformar\n",
    "np.reshape(x, (2, 5))"
   ]
  },
  {
   "cell_type": "code",
   "execution_count": null,
   "id": "046867fd",
   "metadata": {},
   "outputs": [],
   "source": [
    "### Comparación de performance\n",
    "# Realizando una regresión lineal\n",
    "\n",
    "from time import time\n",
    "\n",
    "x = np.linspace(1, 10000000, 20000000)\n",
    "b0 = 5\n",
    "b1 = 2"
   ]
  },
  {
   "cell_type": "code",
   "execution_count": null,
   "id": "46124196",
   "metadata": {},
   "outputs": [
    {
     "name": "stdout",
     "output_type": "stream",
     "text": [
      "El tiempo de ejecución fué de 3.6628921031951904\n"
     ]
    }
   ],
   "source": [
    "# Solución tradicional\n",
    "y0 = np.empty_like(x)\n",
    "\n",
    "inicio = time()\n",
    "for index, value in enumerate(x):\n",
    "    y0[index] = b0 + b1 * value\n",
    "fin = time()\n",
    "\n",
    "print(f\"El tiempo de ejecución fué de {fin - inicio}\")"
   ]
  },
  {
   "cell_type": "code",
   "execution_count": 19,
   "id": "c73ac1b3",
   "metadata": {},
   "outputs": [
    {
     "name": "stdout",
     "output_type": "stream",
     "text": [
      "El tiempo de ejecución fué de 0.05666017532348633\n"
     ]
    }
   ],
   "source": [
    "# Solución con Numpy\n",
    "\n",
    "x = np.linspace(1, 10000000, 20000000)\n",
    "b0 = 5\n",
    "b1 = 2\n",
    "\n",
    "y = np.ones_like(x).reshape(-1, 1) # Creamos un vector con 'unos' del mismo tamaño de x y lo convertimos a columna con reshape\n",
    "x = np.reshape(x, (-1, 1)) # Ahora también convertimos a columna el vector x\n",
    "a = np.hstack([x, y]) # Pegamos el vector 'x' y 'y' elemento por elemento dado que tienen la misma cantidad, esto nos deja un vector columna\n",
    "betas = np.array(([b1], [b0]))\n",
    "\n",
    "inicio = time()\n",
    "y1 = np.matmul(a, betas)\n",
    "fin = time()\n",
    "\n",
    "print (f\"El tiempo de ejecución fué de {fin - inicio}\")"
   ]
  },
  {
   "cell_type": "code",
   "execution_count": 20,
   "id": "231f3ab3",
   "metadata": {},
   "outputs": [
    {
     "data": {
      "text/plain": [
       "array([-1, -1, -1, -1, -1, -1,  1,  1,  1,  1])"
      ]
     },
     "execution_count": 20,
     "metadata": {},
     "output_type": "execute_result"
    }
   ],
   "source": [
    "# Vectorizar funciones\n",
    "\n",
    "def foo(x, param): \n",
    "    if (x <= param):\n",
    "        return -1\n",
    "    else:\n",
    "        return 1\n",
    "\n",
    "\n",
    "x = np.arange(0, 10, 1)\n",
    "vectFoo = np.vectorize(foo)\n",
    "\n",
    "vectFoo(x, 5)"
   ]
  },
  {
   "cell_type": "code",
   "execution_count": 21,
   "id": "edcdefc6",
   "metadata": {},
   "outputs": [
    {
     "data": {
      "text/plain": [
       "array([False, False, False,  True, False])"
      ]
     },
     "execution_count": 21,
     "metadata": {},
     "output_type": "execute_result"
    }
   ],
   "source": [
    "# Validar NANs o Null en arreglo\n",
    "x = np.array([1, 2, 3, np.nan, 5])\n",
    "np.isnan(x)"
   ]
  }
 ],
 "metadata": {
  "kernelspec": {
   "display_name": "ML_MITx",
   "language": "python",
   "name": "python3"
  },
  "language_info": {
   "codemirror_mode": {
    "name": "ipython",
    "version": 3
   },
   "file_extension": ".py",
   "mimetype": "text/x-python",
   "name": "python",
   "nbconvert_exporter": "python",
   "pygments_lexer": "ipython3",
   "version": "3.9.19"
  }
 },
 "nbformat": 4,
 "nbformat_minor": 5
}
