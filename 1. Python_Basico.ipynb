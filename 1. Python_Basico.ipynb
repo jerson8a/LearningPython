{
 "cells": [
  {
   "cell_type": "markdown",
   "id": "09b7aa28",
   "metadata": {},
   "source": [
    "# Python\n",
    "Lenguaje interpretado"
   ]
  },
  {
   "cell_type": "code",
   "execution_count": 1,
   "id": "97d7fc9c",
   "metadata": {},
   "outputs": [
    {
     "name": "stdout",
     "output_type": "stream",
     "text": [
      "My birthdate is 1996-11-2\n",
      "My birthdate is 1996-11-2\n"
     ]
    }
   ],
   "source": [
    "# Template strings\n",
    "birthYear = 1996\n",
    "birthMonth = 11\n",
    "birthDay = 2\n",
    "\n",
    "print(f\"My birthdate is {birthYear}-{birthMonth}-{birthDay}\")\n",
    "print(\"My birthdate is {}-{}-{}\".format(birthYear, birthMonth, birthDay))"
   ]
  },
  {
   "cell_type": "code",
   "execution_count": 2,
   "id": "90544954",
   "metadata": {},
   "outputs": [
    {
     "name": "stdout",
     "output_type": "stream",
     "text": [
      "Jerson\n",
      "Ochoa\n"
     ]
    }
   ],
   "source": [
    "# Manipulating a string like an array\n",
    "myName = \"Jerson Ochoa\"\n",
    "print(myName[0:6])\n",
    "print(myName[7:])"
   ]
  },
  {
   "cell_type": "code",
   "execution_count": 3,
   "id": "7285be6a",
   "metadata": {},
   "outputs": [
    {
     "name": "stdout",
     "output_type": "stream",
     "text": [
      "\u001b[0;31mType:\u001b[0m        str\n",
      "\u001b[0;31mString form:\u001b[0m Jerson Ochoa\n",
      "\u001b[0;31mLength:\u001b[0m      12\n",
      "\u001b[0;31mDocstring:\u001b[0m  \n",
      "str(object='') -> str\n",
      "str(bytes_or_buffer[, encoding[, errors]]) -> str\n",
      "\n",
      "Create a new string object from the given object. If encoding or\n",
      "errors is specified, then the object must expose a data buffer\n",
      "that will be decoded using the given encoding and error handler.\n",
      "Otherwise, returns the result of object.__str__() (if defined)\n",
      "or repr(object).\n",
      "encoding defaults to sys.getdefaultencoding().\n",
      "errors defaults to 'strict'."
     ]
    }
   ],
   "source": [
    "# Describe a variable\n",
    "?myName"
   ]
  },
  {
   "cell_type": "code",
   "execution_count": 4,
   "id": "c00fe0f7",
   "metadata": {},
   "outputs": [
    {
     "name": "stdout",
     "output_type": "stream",
     "text": [
      "False\n",
      "True\n"
     ]
    }
   ],
   "source": [
    "# Boolean comparison\n",
    "a = True\n",
    "b = False\n",
    "\n",
    "print(a is b)\n",
    "print(a is not b)"
   ]
  },
  {
   "cell_type": "code",
   "execution_count": 5,
   "id": "0699be4f",
   "metadata": {},
   "outputs": [
    {
     "name": "stdout",
     "output_type": "stream",
     "text": [
      "Nombre correcto\n"
     ]
    }
   ],
   "source": [
    "# Flow control\n",
    "\n",
    "myName = \"Jerson Ochoa\"\n",
    "\n",
    "if (myName == \"Jerson Ochoa\"):\n",
    "    print(\"Nombre correcto\")\n",
    "elif (myName == \"Juan Ochoa\"):\n",
    "    print(\"Es tu hermano\")\n",
    "else: \n",
    "    pass"
   ]
  },
  {
   "cell_type": "code",
   "execution_count": 6,
   "id": "e5f16d74",
   "metadata": {},
   "outputs": [
    {
     "name": "stdout",
     "output_type": "stream",
     "text": [
      "Este es el ciclo 0\n",
      "Este es el ciclo 1\n",
      "Este es el ciclo 2\n",
      "Este es el ciclo 3\n",
      "Este es el ciclo 4\n",
      "Este es el ciclo 5\n"
     ]
    }
   ],
   "source": [
    "# Loops\n",
    "a = 0\n",
    "\n",
    "while (a <= 5):\n",
    "    print(f\"Este es el ciclo {a}\")\n",
    "    a = a + 1"
   ]
  },
  {
   "cell_type": "code",
   "execution_count": 7,
   "id": "3660f979",
   "metadata": {},
   "outputs": [
    {
     "name": "stdout",
     "output_type": "stream",
     "text": [
      "Este es el ciclo 0\n",
      "Este es el ciclo 1\n",
      "Este es el ciclo 2\n",
      "Este es el ciclo 3\n",
      "Este es el ciclo 4\n"
     ]
    }
   ],
   "source": [
    "for i in range (0,5):\n",
    "    print(f\"Este es el ciclo {i}\")"
   ]
  },
  {
   "cell_type": "code",
   "execution_count": 8,
   "id": "8a89e1eb",
   "metadata": {},
   "outputs": [
    {
     "name": "stdout",
     "output_type": "stream",
     "text": [
      "a\n",
      "e\n",
      "i\n",
      "o\n",
      "u\n"
     ]
    }
   ],
   "source": [
    "miLista = ['a', 'e', 'i', 'o', 'u']\n",
    "\n",
    "for elemento in miLista:\n",
    "    print(elemento)"
   ]
  },
  {
   "cell_type": "code",
   "execution_count": 9,
   "id": "b93ab68d",
   "metadata": {},
   "outputs": [
    {
     "name": "stdout",
     "output_type": "stream",
     "text": [
      "El elemento a está en la posición 0\n",
      "El elemento e está en la posición 1\n",
      "El elemento i está en la posición 2\n",
      "El elemento o está en la posición 3\n",
      "El elemento u está en la posición 4\n"
     ]
    }
   ],
   "source": [
    "miLista = ['a', 'e', 'i', 'o', 'u']\n",
    "\n",
    "for index, elemento in enumerate(miLista):\n",
    "    print(f\"El elemento {elemento} está en la posición {index}\")"
   ]
  },
  {
   "cell_type": "code",
   "execution_count": 11,
   "id": "da7662f2",
   "metadata": {},
   "outputs": [
    {
     "name": "stdout",
     "output_type": "stream",
     "text": [
      "División por cero no válida\n"
     ]
    }
   ],
   "source": [
    "# Exception control\n",
    "\n",
    "num1 = 0\n",
    "num2 = 10\n",
    "try:\n",
    "    result = num2 / num1\n",
    "    print(result)\n",
    "except ValueError as e:\n",
    "    print(\"Valor no es un número\")\n",
    "except ZeroDivisionError as e:\n",
    "    print(\"División por cero no válida\")\n",
    "except Exception as e:\n",
    "    print(e)"
   ]
  },
  {
   "cell_type": "code",
   "execution_count": 12,
   "id": "f1d592de",
   "metadata": {},
   "outputs": [],
   "source": [
    "# Manejo de archivos y variables de entorno\n",
    "import os\n",
    "from pathlib import Path"
   ]
  },
  {
   "cell_type": "code",
   "execution_count": 13,
   "id": "3474b8e0",
   "metadata": {},
   "outputs": [
    {
     "name": "stdout",
     "output_type": "stream",
     "text": [
      "Lecciones/Clase3\n"
     ]
    }
   ],
   "source": [
    "# Manejar ruta de archivos en todos los sistemas operativos\n",
    "\n",
    "pathDatos = os.path.join(\"Lecciones\", \"Clase3\")\n",
    "print(pathDatos)"
   ]
  },
  {
   "cell_type": "code",
   "execution_count": 14,
   "id": "dfb4fe63",
   "metadata": {},
   "outputs": [
    {
     "data": {
      "text/plain": [
       "'/Users/jerson_ochoa/Desktop/JERSON/EDUCATION/U GALILEO/DATA SCIENCE/1. Ciencia de datos en python/Repaso'"
      ]
     },
     "execution_count": 14,
     "metadata": {},
     "output_type": "execute_result"
    }
   ],
   "source": [
    "# Obtener directorio actual (Current Working Directory)\n",
    "\n",
    "os.getcwd()"
   ]
  },
  {
   "cell_type": "code",
   "execution_count": 15,
   "id": "98fcb0ff",
   "metadata": {},
   "outputs": [
    {
     "name": "stdout",
     "output_type": "stream",
     "text": [
      "/Users/jerson_ochoa/Desktop/JERSON/EDUCATION/U GALILEO/DATA SCIENCE/1. Ciencia de datos en python/Repaso/archivosDummy/datos1.csv\n",
      "/Users/jerson_ochoa/Desktop/JERSON/EDUCATION/U GALILEO/DATA SCIENCE/1. Ciencia de datos en python/Repaso/archivosDummy/datos2.csv\n",
      "/Users/jerson_ochoa/Desktop/JERSON/EDUCATION/U GALILEO/DATA SCIENCE/1. Ciencia de datos en python/Repaso/archivosDummy/datos3.csv\n"
     ]
    }
   ],
   "source": [
    "# Leer todos los arcivos de un directorio\n",
    "\n",
    "archivos = ['datos1.csv', 'datos2.csv', 'datos3.csv']\n",
    "\n",
    "for filename in archivos:\n",
    "    filePath = os.path.join(os.getcwd(), 'archivosDummy', filename)\n",
    "    print(filePath)"
   ]
  },
  {
   "cell_type": "code",
   "execution_count": 16,
   "id": "6b09566b",
   "metadata": {},
   "outputs": [
    {
     "name": "stdout",
     "output_type": "stream",
     "text": [
      "Esto es una escritura sobre un archivo de texto desde Python\n"
     ]
    }
   ],
   "source": [
    "# Leer y editar archivos de texto\n",
    "\n",
    "filePath = os.path.join(os.getcwd(), 'archivosDummy/texto.txt')\n",
    "with open(filePath, 'a', encoding='utf-8') as archivo:\n",
    "    archivo.write('Esto es una escritura sobre un archivo de texto desde Python')\n",
    "\n",
    "with open(filePath, 'r', encoding='utf-8') as archivo:\n",
    "    for linea in archivo:\n",
    "        print(linea)"
   ]
  },
  {
   "cell_type": "markdown",
   "id": "4b94a264",
   "metadata": {},
   "source": [
    "### Estructuras de datos en Python"
   ]
  },
  {
   "cell_type": "code",
   "execution_count": 19,
   "id": "e0671c34",
   "metadata": {},
   "outputs": [
    {
     "name": "stdout",
     "output_type": "stream",
     "text": [
      "4\n",
      "[1, 2, 3, 4, 5, 'Texto']\n",
      "[2, 3, 4, 5, 'Texto']\n"
     ]
    }
   ],
   "source": [
    "# Listas\n",
    "lista = [1, 2, 3, 4, 5]\n",
    "print(lista[3])\n",
    "lista.insert(6,'Texto')\n",
    "print(lista)\n",
    "del lista[0]\n",
    "print(lista)"
   ]
  },
  {
   "cell_type": "code",
   "execution_count": 20,
   "id": "ed2efb20",
   "metadata": {},
   "outputs": [
    {
     "name": "stdout",
     "output_type": "stream",
     "text": [
      "[1, 4, 9, 16, 25]\n"
     ]
    }
   ],
   "source": [
    "# List comprehension\n",
    "lista = [1, 2, 3, 4, 5]\n",
    "lista = [value**2 for value in lista]\n",
    "print(lista)"
   ]
  },
  {
   "cell_type": "code",
   "execution_count": 21,
   "id": "6ec8db7d",
   "metadata": {},
   "outputs": [
    {
     "name": "stdout",
     "output_type": "stream",
     "text": [
      "[4, 16]\n"
     ]
    }
   ],
   "source": [
    "# List comprehension as filter\n",
    "lista = [1, 2, 3, 4, 5]\n",
    "lista = [value**2 for value in lista if value % 2 == 0]\n",
    "print(lista)"
   ]
  },
  {
   "cell_type": "code",
   "execution_count": 22,
   "id": "40679bde",
   "metadata": {},
   "outputs": [
    {
     "name": "stdout",
     "output_type": "stream",
     "text": [
      "(1, 2, 3, 4, 5)\n"
     ]
    }
   ],
   "source": [
    "# Tuplas (NO mutable)\n",
    "tupla = (1, 2, 3, 4, 5)\n",
    "# Los resultados de funciones son tuplas\n",
    "print(tupla)"
   ]
  },
  {
   "cell_type": "code",
   "execution_count": 23,
   "id": "aea7a70a",
   "metadata": {},
   "outputs": [
    {
     "name": "stdout",
     "output_type": "stream",
     "text": [
      "(1, 2, 3, 4, 5, 6, 7, 8, 9, 10)\n"
     ]
    }
   ],
   "source": [
    "tupla2 = tupla + (6, 7, 8, 9, 10)\n",
    "print(tupla2)"
   ]
  },
  {
   "cell_type": "code",
   "execution_count": 26,
   "id": "a5b9edee",
   "metadata": {},
   "outputs": [
    {
     "name": "stdout",
     "output_type": "stream",
     "text": [
      "{1: 'Javascript', 2: 'Python'}\n",
      "Javascript\n",
      "{1: 'Javascript', 2: 'Python', 3: 'C#'}\n"
     ]
    }
   ],
   "source": [
    "# Diccionarios\n",
    "diccionario = {1: 'Javascript', 2: 'Python'}\n",
    "print(diccionario)\n",
    "print(diccionario[1])\n",
    "diccionario[3] = 'C#'\n",
    "print(diccionario)"
   ]
  },
  {
   "cell_type": "code",
   "execution_count": 29,
   "id": "1d91e80b",
   "metadata": {},
   "outputs": [
    {
     "name": "stdout",
     "output_type": "stream",
     "text": [
      "{1, 2, 3, 4, 5}\n",
      "{1, 2, 3, 4, 5}\n",
      "{1, 2, 3, 4, 5, 6}\n"
     ]
    }
   ],
   "source": [
    "# Sets\n",
    "setX = {1, 2, 3, 4, 5}\n",
    "print(setX)\n",
    "setX.add(5) # No lo agrega porque ya existe\n",
    "print(setX)\n",
    "setX.add(6) # Si lo agrega porque no existe\n",
    "print(setX)"
   ]
  },
  {
   "cell_type": "code",
   "execution_count": 30,
   "id": "a1c2022e",
   "metadata": {},
   "outputs": [
    {
     "name": "stdout",
     "output_type": "stream",
     "text": [
      "{1, 2, 3, 4, 5, 6, 7, 8, 9, 10}\n"
     ]
    }
   ],
   "source": [
    "# Operaciones entre sets\n",
    "setX = {1, 2, 3, 4, 5}\n",
    "setY = {6, 7, 8, 9, 10}\n",
    "\n",
    "setZ = setX.union(setY)\n",
    "print(setZ)"
   ]
  }
 ],
 "metadata": {
  "kernelspec": {
   "display_name": "ML_MITx",
   "language": "python",
   "name": "python3"
  },
  "language_info": {
   "codemirror_mode": {
    "name": "ipython",
    "version": 3
   },
   "file_extension": ".py",
   "mimetype": "text/x-python",
   "name": "python",
   "nbconvert_exporter": "python",
   "pygments_lexer": "ipython3",
   "version": "3.9.19"
  }
 },
 "nbformat": 4,
 "nbformat_minor": 5
}
